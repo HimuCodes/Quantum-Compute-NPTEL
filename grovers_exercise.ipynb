{
 "cells": [
  {
   "cell_type": "markdown",
   "metadata": {},
   "source": [
    "# Grover's search\n",
    "Author : Dhiraj Madan, Advisory Research Engineer, IBM Research India"
   ],
   "id": "b3575a42bbeb98dd"
  },
  {
   "cell_type": "markdown",
   "metadata": {},
   "source": [
    " We will learn to implement Grover's search algorithm in this notebook. First lets import all the required libraries"
   ],
   "id": "d09d0b628aafe0c1"
  },
  {
   "cell_type": "code",
   "metadata": {
    "ExecuteTime": {
     "end_time": "2024-09-17T14:33:09.144169Z",
     "start_time": "2024-09-17T14:33:08.005044Z"
    }
   },
   "source": [
    "import numpy as np\n",
    "# Importing standard Qiskit libraries\n",
    "from qiskit import QuantumCircuit, transpile, Aer, IBMQ\n",
    "from qiskit.tools.jupyter import *\n",
    "from qiskit.visualization import *\n",
    "#from ibm_quantum_widgets import *\n",
    "\n",
    "# Loading your IBM Q account(s)\n",
    "provider = IBMQ.load_account()"
   ],
   "id": "fd9626f77323c76a",
   "outputs": [
    {
     "ename": "ModuleNotFoundError",
     "evalue": "No module named 'qiskit'",
     "output_type": "error",
     "traceback": [
      "\u001B[1;31m---------------------------------------------------------------------------\u001B[0m",
      "\u001B[1;31mModuleNotFoundError\u001B[0m                       Traceback (most recent call last)",
      "Cell \u001B[1;32mIn[2], line 3\u001B[0m\n\u001B[0;32m      1\u001B[0m \u001B[38;5;28;01mimport\u001B[39;00m \u001B[38;5;21;01mnumpy\u001B[39;00m \u001B[38;5;28;01mas\u001B[39;00m \u001B[38;5;21;01mnp\u001B[39;00m\n\u001B[0;32m      2\u001B[0m \u001B[38;5;66;03m# Importing standard Qiskit libraries\u001B[39;00m\n\u001B[1;32m----> 3\u001B[0m \u001B[38;5;28;01mfrom\u001B[39;00m \u001B[38;5;21;01mqiskit\u001B[39;00m \u001B[38;5;28;01mimport\u001B[39;00m QuantumCircuit, transpile, Aer, IBMQ\n\u001B[0;32m      4\u001B[0m \u001B[38;5;28;01mfrom\u001B[39;00m \u001B[38;5;21;01mqiskit\u001B[39;00m\u001B[38;5;21;01m.\u001B[39;00m\u001B[38;5;21;01mtools\u001B[39;00m\u001B[38;5;21;01m.\u001B[39;00m\u001B[38;5;21;01mjupyter\u001B[39;00m \u001B[38;5;28;01mimport\u001B[39;00m \u001B[38;5;241m*\u001B[39m\n\u001B[0;32m      5\u001B[0m \u001B[38;5;28;01mfrom\u001B[39;00m \u001B[38;5;21;01mqiskit\u001B[39;00m\u001B[38;5;21;01m.\u001B[39;00m\u001B[38;5;21;01mvisualization\u001B[39;00m \u001B[38;5;28;01mimport\u001B[39;00m \u001B[38;5;241m*\u001B[39m\n",
      "\u001B[1;31mModuleNotFoundError\u001B[0m: No module named 'qiskit'"
     ]
    }
   ],
   "execution_count": 2
  },
  {
   "cell_type": "code",
   "execution_count": null,
   "metadata": {},
   "outputs": [],
   "source": [
    "from qiskit import assemble\n",
    "import numpy as np\n",
    "import matplotlib.pyplot as plt"
   ],
   "id": "ee3a46d00ec2795f"
  },
  {
   "cell_type": "markdown",
   "metadata": {},
   "source": [
    "We will work with 4 qubit data registers. Here we will search for an element amongs 0 to 2^4 -1 =15\n",
    "We will create an ancilla qubit to store |->. This will be needed to provide a phase."
   ],
   "id": "da9a7521a68d6aab"
  },
  {
   "cell_type": "code",
   "metadata": {
    "ExecuteTime": {
     "end_time": "2024-09-17T14:33:02.442352Z",
     "start_time": "2024-09-17T14:33:02.120544Z"
    }
   },
   "source": [
    "n=4\n",
    "grover_ckt = QuantumCircuit(n+1, n)\n",
    "marked = [1,0,1,1] # 1101 element is marked (lsb to msb)=>13"
   ],
   "id": "1cdd4e5ff87e245e",
   "outputs": [
    {
     "ename": "NameError",
     "evalue": "name 'QuantumCircuit' is not defined",
     "output_type": "error",
     "traceback": [
      "\u001B[1;31m---------------------------------------------------------------------------\u001B[0m",
      "\u001B[1;31mNameError\u001B[0m                                 Traceback (most recent call last)",
      "Cell \u001B[1;32mIn[1], line 2\u001B[0m\n\u001B[0;32m      1\u001B[0m n\u001B[38;5;241m=\u001B[39m\u001B[38;5;241m4\u001B[39m\n\u001B[1;32m----> 2\u001B[0m grover_ckt \u001B[38;5;241m=\u001B[39m \u001B[43mQuantumCircuit\u001B[49m(n\u001B[38;5;241m+\u001B[39m\u001B[38;5;241m1\u001B[39m, n)\n\u001B[0;32m      3\u001B[0m marked \u001B[38;5;241m=\u001B[39m [\u001B[38;5;241m1\u001B[39m,\u001B[38;5;241m0\u001B[39m,\u001B[38;5;241m1\u001B[39m,\u001B[38;5;241m1\u001B[39m] \u001B[38;5;66;03m# 1101 element is marked (lsb to msb)=>13\u001B[39;00m\n",
      "\u001B[1;31mNameError\u001B[0m: name 'QuantumCircuit' is not defined"
     ]
    }
   ],
   "execution_count": 1
  },
  {
   "cell_type": "markdown",
   "metadata": {},
   "source": [
    "Here is our oracle function. For a given n (number of data qubits), an integer marked (the index of marked element) and a circuit,\n",
    "it applies the following oracle $U_{marked}|x>|y> =|x>|y \\oplus f(x)>$. \n",
    "\n",
    "Here f(x) = 1 if  x is the marked index and 0 otherwise.\n"
   ],
   "id": "fa8851d4b665f787"
  },
  {
   "cell_type": "code",
   "execution_count": null,
   "metadata": {},
   "outputs": [],
   "source": [
    "def apply_oracle(n,marked,ckt):\n",
    "    control0 = [i for i in range(n) if not marked[i]]\n",
    "    ckt.x(control0)\n",
    "    ckt.mct(list(range(n)),n)\n",
    "    ckt.x(control0)\n",
    "    ckt.draw()\n",
    "    \n",
    "    "
   ],
   "id": "d7aa020f03db1305"
  },
  {
   "cell_type": "markdown",
   "metadata": {},
   "source": [
    "# Exercise 1\n",
    "You need to complete the function in the cell below to reflect about the unform superposition state. \n",
    " This should take a circuit object, and an integer n : The number of data qubits \n",
    " (excluding the ancilla qubit to store |-> state). The goal is to add operations to refect about the\n",
    " superposed state.\n",
    "As a step you need to be able to reflect about 0's. You will find the function mct helpful \n",
    "https://qiskit.org/documentation/stubs/qiskit.circuit.library.MCMT.html"
   ],
   "id": "9e071d2967f98075"
  },
  {
   "cell_type": "code",
   "execution_count": null,
   "metadata": {},
   "outputs": [],
   "source": [
    "\n",
    "def reflect_uniform(ckt,n):\n",
    "    pass\n",
    "    \n",
    "\n",
    "\n"
   ],
   "id": "ac8fe4ef08363ead"
  },
  {
   "cell_type": "markdown",
   "metadata": {},
   "source": [
    "Let's start building the circuit now. We start by create a superposition of all states i.e.\n",
    "$|\\psi> = \\frac{1}{\\sqrt{2^n}} \\sum_{x\\in \\{0,1\\}^n} |x>$. \n",
    "Note that the final qubit needs to be placed in state |-> as required.  "
   ],
   "id": "9b917ada97279b23"
  },
  {
   "cell_type": "code",
   "execution_count": null,
   "metadata": {},
   "outputs": [],
   "source": [
    "grover_ckt.x(n)\n",
    "grover_ckt.barrier()\n",
    "grover_ckt.h(list(range(n+1)))\n",
    "\n",
    "\n"
   ],
   "id": "aaaa5c1a8a8c79fd"
  },
  {
   "cell_type": "code",
   "execution_count": null,
   "metadata": {},
   "outputs": [],
   "source": [
    "grover_ckt.draw()\n"
   ],
   "id": "4006dcbc787fba44"
  },
  {
   "cell_type": "markdown",
   "metadata": {},
   "source": [
    "Let's run this circuit now. We will obtain the statevector and keep the first n qubits (leaving the |-> state ancilla qubit as is)."
   ],
   "id": "32e40435bce3b5e6"
  },
  {
   "cell_type": "code",
   "execution_count": null,
   "metadata": {},
   "outputs": [],
   "source": [
    "svsim = Aer.get_backend('statevector_simulator') # Tell Qiskit how to simulate our circuit\n",
    "qobj = assemble(grover_ckt)     # Create a Qobj from the circuit for the simulator to run\n",
    "result = svsim.run(qobj).result() # Do the simulation and return the result\n",
    "statevector = result.data()['statevector']\n",
    "statevector = statevector[:2**n]"
   ],
   "id": "daf804104913d2f3"
  },
  {
   "cell_type": "markdown",
   "metadata": {},
   "source": [
    "Let's plot this state vector on a 2 d plane spanned by the marked element state |a> and the superposition of unmarked states |e>. "
   ],
   "id": "630bda3ce3ec4563"
  },
  {
   "cell_type": "code",
   "execution_count": null,
   "metadata": {},
   "outputs": [],
   "source": [
    "marked = [1,0,1,1] # Corresponds to integer 1101 in binary => 13\n",
    "ket_a = np.zeros(2**n)\n",
    "ket_a[13] =1\n",
    "ket_e = (np.ones(2**n) - ket_a)/np.sqrt(2**n -1)\n",
    "\n"
   ],
   "id": "d9e08a003b1ed9f0"
  },
  {
   "cell_type": "code",
   "execution_count": null,
   "metadata": {},
   "outputs": [],
   "source": [
    "def get_projection(psi,e,a ):\n",
    "    proj =  [np.real(np.vdot(e,psi)), np.real(np.vdot(a,psi))]\n",
    "    return proj\n",
    "\n",
    "def plt_vector(proj, axes =[0.0,1.0,0.0,1.0]):\n",
    "    x_pos = 0\n",
    "    y_pos = 0\n",
    "    x_direct = proj[0]\n",
    "    y_direct = proj[1]\n",
    "\n",
    "    # Creating plot\n",
    "    fig, ax = plt.subplots()\n",
    "    ax.quiver(x_pos, y_pos, x_direct, y_direct,scale=1.0)\n",
    "\n",
    "    ax.axis(axes)\n",
    "\n",
    "    # show plot\n",
    "    plt.show()"
   ],
   "id": "f1a4cfd44eec297b"
  },
  {
   "cell_type": "code",
   "execution_count": null,
   "metadata": {},
   "outputs": [],
   "source": [
    "proj = get_projection(statevector, ket_e, ket_a)\n",
    "plt_vector(proj)"
   ],
   "id": "47cfa8080a9ae191"
  },
  {
   "cell_type": "markdown",
   "metadata": {},
   "source": [
    "Now lets add the phase oracle which reflects the state about |e>."
   ],
   "id": "52626413e8ae36a9"
  },
  {
   "cell_type": "code",
   "execution_count": null,
   "metadata": {},
   "outputs": [],
   "source": [
    "#grover_ckt.append(oracle, list(range(n+1)))\n",
    "apply_oracle(4,marked,grover_ckt)\n",
    "grover_ckt.barrier()"
   ],
   "id": "9dc333fb360ec601"
  },
  {
   "cell_type": "markdown",
   "metadata": {},
   "source": [
    "This is how the circuit looks now."
   ],
   "id": "6a7d3d486d55e115"
  },
  {
   "cell_type": "code",
   "execution_count": null,
   "metadata": {},
   "outputs": [],
   "source": [
    "grover_ckt.draw()"
   ],
   "id": "ee56c4f5c31f2c7c"
  },
  {
   "cell_type": "markdown",
   "metadata": {},
   "source": [
    "Now we reflect about the unform state. We use the function you completed as part of the exercise. "
   ],
   "id": "3ffb8316b0749672"
  },
  {
   "cell_type": "code",
   "execution_count": null,
   "metadata": {},
   "outputs": [],
   "source": [
    "reflect_uniform(grover_ckt,n)"
   ],
   "id": "20b3c96afcc08575"
  },
  {
   "cell_type": "code",
   "execution_count": null,
   "metadata": {},
   "outputs": [],
   "source": [
    "grover_ckt.barrier()\n",
    "grover_ckt.draw()"
   ],
   "id": "89158007c998e2ea"
  },
  {
   "cell_type": "markdown",
   "metadata": {},
   "source": [
    "Now we run the circuit again and replot the state vector. Observe that it indeed gets rotate colckwise towards the marked state |a>"
   ],
   "id": "ed4f690ddc456587"
  },
  {
   "cell_type": "code",
   "execution_count": null,
   "metadata": {},
   "outputs": [],
   "source": [
    "svsim = Aer.get_backend('statevector_simulator') # Tell Qiskit how to simulate our circuit\n",
    "qobj = assemble(grover_ckt)     # Create a Qobj from the circuit for the simulator to run\n",
    "result = svsim.run(qobj).result() # Do the simulation and return the result\n",
    "statevector = result.data()['statevector']\n",
    "\n",
    "statevector = statevector[:2**n]\n",
    "proj = get_projection(statevector, ket_e, ket_a)\n",
    "plt_vector(proj)"
   ],
   "id": "395101458ec66701"
  },
  {
   "cell_type": "markdown",
   "metadata": {},
   "source": [
    "Lets do another step of phase oracle followed by reflection about uniform."
   ],
   "id": "c6ef102e65c4eb17"
  },
  {
   "cell_type": "code",
   "execution_count": null,
   "metadata": {},
   "outputs": [],
   "source": [
    "apply_oracle(4,marked,grover_ckt)\n",
    "\n",
    "grover_ckt.barrier()\n",
    "reflect_uniform(grover_ckt,n)\n",
    "grover_ckt.barrier()\n"
   ],
   "id": "edf5bcc46c5ed0fc"
  },
  {
   "cell_type": "code",
   "execution_count": null,
   "metadata": {},
   "outputs": [],
   "source": [
    "grover_ckt.draw()"
   ],
   "id": "cd15b7d73754d7d8"
  },
  {
   "cell_type": "code",
   "execution_count": null,
   "metadata": {},
   "outputs": [],
   "source": [
    "svsim = Aer.get_backend('statevector_simulator') # Tell Qiskit how to simulate our circuit\n",
    "qobj = assemble(grover_ckt)     # Create a Qobj from the circuit for the simulator to run\n",
    "result = svsim.run(qobj).result() # Do the simulation and return the result\n",
    "statevector = result.data()['statevector']\n",
    "\n",
    "statevector = statevector[:2**n]\n",
    "proj = get_projection(statevector, ket_e, ket_a)\n",
    "plt_vector(proj)"
   ],
   "id": "20ee79b9cc3e8ddb"
  },
  {
   "cell_type": "markdown",
   "metadata": {},
   "source": [
    "We observe that it indeed rotates clockwise towards |a>. Lets see when we repeat the 2 steps again."
   ],
   "id": "e5c8e6334b8d27ac"
  },
  {
   "cell_type": "code",
   "execution_count": null,
   "metadata": {},
   "outputs": [],
   "source": [
    "apply_oracle(4,marked,grover_ckt)\n",
    "\n",
    "grover_ckt.barrier()\n",
    "reflect_uniform(grover_ckt,n)\n",
    "grover_ckt.barrier()\n",
    "grover_ckt.draw()\n"
   ],
   "id": "84c9ae9887948111"
  },
  {
   "cell_type": "code",
   "execution_count": null,
   "metadata": {},
   "outputs": [],
   "source": [
    "svsim = Aer.get_backend('statevector_simulator') # Tell Qiskit how to simulate our circuit\n",
    "qobj = assemble(grover_ckt)     # Create a Qobj from the circuit for the simulator to run\n",
    "result = svsim.run(qobj).result() # Do the simulation and return the result\n",
    "statevector = result.data()['statevector']\n",
    "\n",
    "statevector = statevector[:2**n]\n",
    "proj = get_projection(statevector, ket_e, ket_a)\n",
    "plt_vector(proj, axes = [-1.0,1.0,-1.0,1.0])"
   ],
   "id": "ea8d9239d5f5c728"
  },
  {
   "cell_type": "markdown",
   "metadata": {},
   "source": [
    "Now we observe that statevector falls into the second quadrant. At this point further rotations will not help much."
   ],
   "id": "be9065709dda1f37"
  },
  {
   "cell_type": "markdown",
   "metadata": {},
   "source": [
    "# Exercise 2.1 \n",
    "Now we compute the theoretical number of rotations which maximize the angle keeping statevector in quadrant I. First compute the initial angle  $\\theta_0$. Store it in variable theta0."
   ],
   "id": "1232c223838d31af"
  },
  {
   "cell_type": "code",
   "execution_count": null,
   "metadata": {},
   "outputs": [],
   "source": [
    "theta0 = \n",
    "theta0"
   ],
   "id": "7528d7b842b61d10"
  },
  {
   "cell_type": "markdown",
   "metadata": {},
   "source": [
    "# Exercise 2.2\n",
    "Each rotation increases this by $2 \\theta_0$. After T rotations it is $(2T+1)\\theta_0$. You need to find the largest such integer T so that it remains in quadrant I. Store it in variable T ."
   ],
   "id": "4880335f97c70f12"
  },
  {
   "cell_type": "code",
   "execution_count": null,
   "metadata": {},
   "outputs": [],
   "source": [
    "T = \n",
    "T"
   ],
   "id": "f06d5375a046a356"
  },
  {
   "cell_type": "markdown",
   "metadata": {},
   "source": [
    "Now to complete the story we create a new circuit and rotate preciely by number of times given bt T. "
   ],
   "id": "47dcdba82f55653a"
  },
  {
   "cell_type": "code",
   "execution_count": null,
   "metadata": {},
   "outputs": [],
   "source": [
    "n=4\n",
    "grover_ckt = QuantumCircuit(n+1, n)\n",
    "marked = [1,0,1,1] # 1101 element is marked (lsb to msb)=>13\n",
    "grover_ckt.x(n)\n",
    "grover_ckt.barrier()\n",
    "grover_ckt.h(list(range(n+1)))\n",
    "grover_ckt.barrier()\n",
    "\n",
    "for _ in range(int(np.floor(T))):\n",
    "    apply_oracle(4,marked,grover_ckt)\n",
    "\n",
    "    grover_ckt.barrier()\n",
    "    reflect_uniform(grover_ckt,n)\n",
    "    grover_ckt.barrier()\n",
    "\n",
    "for j in range(n):\n",
    "    grover_ckt.measure(j,j)\n"
   ],
   "id": "2b412b8d931229af"
  },
  {
   "cell_type": "code",
   "execution_count": null,
   "metadata": {},
   "outputs": [],
   "source": [
    "grover_ckt.draw()"
   ],
   "id": "58c067ecff1768e8"
  },
  {
   "cell_type": "code",
   "execution_count": null,
   "metadata": {},
   "outputs": [],
   "source": [
    "sim = Aer.get_backend('qasm_simulator') # Tell Qiskit how to simulate our circuit\n",
    "qobj = assemble(grover_ckt)     # Create a Qobj from the circuit for the simulator to run\n",
    "result = sim.run(qobj).result() # Do the simulation and return the result"
   ],
   "id": "b75b188e8cf6bdfd"
  },
  {
   "cell_type": "code",
   "execution_count": null,
   "metadata": {},
   "outputs": [],
   "source": [
    "result"
   ],
   "id": "97ba4ef61874f33f"
  },
  {
   "cell_type": "code",
   "execution_count": null,
   "metadata": {},
   "outputs": [],
   "source": [
    "counts = result.get_counts(grover_ckt)\n"
   ],
   "id": "15432a216b664118"
  },
  {
   "cell_type": "code",
   "execution_count": null,
   "metadata": {},
   "outputs": [],
   "source": [
    "plot_histogram(counts)\n"
   ],
   "id": "f11492efc16ecaf7"
  },
  {
   "cell_type": "markdown",
   "metadata": {},
   "source": [
    "# Concluding remarks and points to ponder\n",
    "We see that the above plot has highest measured probability for marked index i.e. 13 ( or 1101).\n",
    "This completes the implementation of Grover's search for a single marked element. Here are a few more points to ponder about for future :-\n",
    "1. What happens when there are more than 1 marked elements. How will the algorithm change. What is the initial angle and rotation in each step.\n",
    "2. What if you dont know the number of marked elements. What will be the modfications needed ?"
   ],
   "id": "688273de6908e731"
  },
  {
   "cell_type": "markdown",
   "metadata": {},
   "source": [
    "# References \n",
    "1. L. K. Grover (1996), \"A fast quantum mechanical algorithm for database search\", Proceedings of the 28th Annual ACM Symposium on the Theory of Computing (STOC 1996), doi:10.1145/237814.237866, arXiv:quant-ph/9605043\n",
    "\n",
    "1. I. Chuang & M. Nielsen, \"Quantum Computation and Quantum Information\", Cambridge: Cambridge University Press, 2000.\n",
    "\n",
    "1. Qiskit Textbook : https://qiskit.org/textbook/ch-algorithms/grover.html\n"
   ],
   "id": "d1aba760b524c983"
  },
  {
   "cell_type": "code",
   "execution_count": null,
   "metadata": {},
   "outputs": [],
   "source": [],
   "id": "68c7fe21a588deb0"
  }
 ],
 "metadata": {
  "kernelspec": {
   "display_name": "Python 3 (ipykernel)",
   "language": "python",
   "name": "python3"
  },
  "language_info": {
   "codemirror_mode": {
    "name": "ipython",
    "version": 3
   },
   "file_extension": ".py",
   "mimetype": "text/x-python",
   "name": "python",
   "nbconvert_exporter": "python",
   "pygments_lexer": "ipython3",
   "version": "3.7.6"
  }
 },
 "nbformat": 4,
 "nbformat_minor": 5
}
